{
 "cells": [
  {
   "cell_type": "code",
   "execution_count": 13,
   "metadata": {},
   "outputs": [],
   "source": [
    "import pandas as pd\n",
    "import numpy as np\n",
    "from sklearn.model_selection import train_test_split\n",
    "from sklearn.linear_model import LinearRegression\n",
    "from sklearn import linear_model\n",
    "from sklearn.metrics import mean_squared_error\n",
    "from sklearn.preprocessing import Normalizer\n",
    "from sklearn.pipeline import make_pipeline\n",
    "from sklearn.preprocessing import PolynomialFeatures\n",
    "from yahoo_baseball_assistant import hitting\n",
    "import pickle\n",
    "import os"
   ]
  },
  {
   "cell_type": "code",
   "execution_count": 4,
   "metadata": {},
   "outputs": [],
   "source": [
    "dt_ranges = [ [ ['2012-07-01', '2015-06-30'], ['2015-07-01', '2015-09-30'], ['2016-04-01', '2016-06-30'] ],  \n",
    "              [ ['2013-04-01', '2015-09-30'], ['2016-04-01', '2016-06-30'], ['2016-07-01', '2016-09-30'] ],  \n",
    "              [ ['2013-07-01', '2016-06-30'], ['2016-07-01', '2016-09-30'], ['2017-04-01', '2017-06-30'] ], \n",
    "              [ ['2014-04-01', '2016-09-30'], ['2017-04-01', '2017-06-30'], ['2017-07-01', '2017-09-30'] ], \n",
    "              [ ['2014-07-01', '2017-06-30'], ['2017-07-01', '2017-09-30'], ['2018-04-01', '2018-06-30'] ],\n",
    "              [ ['2015-04-01', '2017-09-30'], ['2018-04-01', '2018-06-30'], ['2018-07-01', '2018-09-30'] ] ]\n",
    "dt_ranges = [ [ ['2010-04-01', '2010-09-30'], ['2011-04-01', '2011-06-30'] ],   \n",
    "              [ ['2010-07-01', '2011-06-30'], ['2011-07-01', '2011-09-30'] ],   \n",
    "              [ ['2011-04-01', '2011-09-30'], ['2012-04-01', '2012-06-30'] ],   \n",
    "              [ ['2011-07-01', '2012-06-30'], ['2012-07-01', '2012-09-30'] ],   \n",
    "              [ ['2012-04-01', '2012-09-30'], ['2013-04-01', '2013-06-30'] ],   \n",
    "              [ ['2012-07-01', '2013-06-30'], ['2013-07-01', '2013-09-30'] ],  \n",
    "              [ ['2013-04-01', '2013-09-30'], ['2014-04-01', '2014-06-30'] ],  \n",
    "              [ ['2013-07-01', '2014-06-30'], ['2014-07-01', '2014-09-30'] ],  \n",
    "              [ ['2014-04-01', '2014-09-30'], ['2015-04-01', '2015-06-30'] ],  \n",
    "              [ ['2014-07-01', '2015-06-30'], ['2015-07-01', '2015-09-30'] ], \n",
    "              [ ['2015-04-01', '2015-09-30'], ['2016-04-01', '2016-06-30'] ], \n",
    "              [ ['2015-07-01', '2016-06-30'], ['2016-07-01', '2016-09-30'] ], \n",
    "              [ ['2016-04-01', '2016-09-30'], ['2017-04-01', '2017-06-30'] ], \n",
    "              [ ['2016-07-01', '2017-06-30'], ['2017-07-01', '2017-09-30'] ], \n",
    "              [ ['2017-04-01', '2017-09-30'], ['2018-04-01', '2018-06-30'] ],\n",
    "              [ ['2017-07-01', '2018-06-30'], ['2018-07-01', '2018-09-30'] ] ]\n",
    "df = None\n",
    "for dt_range in dt_ranges:\n",
    "  if df is None:\n",
    "    df = hitting.build_dataset(dt_range, 'HR', min_PA=200)\n",
    "  else:\n",
    "    df = pd.concat([df, hitting.build_dataset(dt_range, 'HR', min_PA=200)])"
   ]
  },
  {
   "cell_type": "code",
   "execution_count": 5,
   "metadata": {},
   "outputs": [
    {
     "name": "stdout",
     "output_type": "stream",
     "text": [
      "<class 'pandas.core.frame.DataFrame'>\n",
      "Int64Index: 2442 entries, 152 to 114\n",
      "Data columns (total 20 columns):\n",
      "Age_P0    2442 non-null int64\n",
      "R_P0      2442 non-null float64\n",
      "H_P0      2442 non-null float64\n",
      "2B_P0     2442 non-null float64\n",
      "3B_P0     2442 non-null float64\n",
      "HR_P0     2442 non-null float64\n",
      "RBI_P0    2442 non-null float64\n",
      "BB_P0     2442 non-null float64\n",
      "IBB_P0    2442 non-null float64\n",
      "SO_P0     2442 non-null float64\n",
      "HBP_P0    2442 non-null float64\n",
      "SH_P0     2442 non-null float64\n",
      "SF_P0     2442 non-null float64\n",
      "GDP_P0    2442 non-null float64\n",
      "SB_P0     2442 non-null float64\n",
      "CS_P0     2442 non-null float64\n",
      "BA_P0     2442 non-null float64\n",
      "OBP_P0    2442 non-null float64\n",
      "SLG_P0    2442 non-null float64\n",
      "OPS_P0    2442 non-null float64\n",
      "dtypes: float64(19), int64(1)\n",
      "memory usage: 400.6 KB\n"
     ]
    }
   ],
   "source": [
    "train, test = train_test_split(df, test_size=0.2, random_state=42)\n",
    "train_data = train.iloc[:,1:-1]\n",
    "train_label = train.iloc[:,-1]\n",
    "test_data = test.iloc[:,1:-1]\n",
    "test_label = test.iloc[:,-1]\n",
    "train_data.info()"
   ]
  },
  {
   "cell_type": "code",
   "execution_count": 6,
   "metadata": {},
   "outputs": [
    {
     "data": {
      "text/plain": [
       "count    2442.000000\n",
       "mean        0.030522\n",
       "std         0.016985\n",
       "min         0.000000\n",
       "25%         0.017498\n",
       "50%         0.029412\n",
       "75%         0.041667\n",
       "max         0.105556\n",
       "Name: HR, dtype: float64"
      ]
     },
     "execution_count": 6,
     "metadata": {},
     "output_type": "execute_result"
    }
   ],
   "source": [
    "train_label.describe()"
   ]
  },
  {
   "cell_type": "code",
   "execution_count": 7,
   "metadata": {},
   "outputs": [
    {
     "data": {
      "text/plain": [
       "0.46101612360014405"
      ]
     },
     "execution_count": 7,
     "metadata": {},
     "output_type": "execute_result"
    }
   ],
   "source": [
    "# LinearRegressionModel\n",
    "model = LinearRegression(normalize=False)\n",
    "model.fit(train_data, train_label)\n",
    "model.score(train_data, train_label)"
   ]
  },
  {
   "cell_type": "code",
   "execution_count": 8,
   "metadata": {},
   "outputs": [
    {
     "data": {
      "text/plain": [
       "0.0"
      ]
     },
     "execution_count": 8,
     "metadata": {},
     "output_type": "execute_result"
    }
   ],
   "source": [
    "# Lasso regression model\n",
    "model = linear_model.Lasso(alpha=0.1, normalize=False)\n",
    "model.fit(train_data, train_label)\n",
    "model.score(train_data, train_label)"
   ]
  },
  {
   "cell_type": "code",
   "execution_count": 9,
   "metadata": {},
   "outputs": [
    {
     "data": {
      "text/plain": [
       "0.0"
      ]
     },
     "execution_count": 9,
     "metadata": {},
     "output_type": "execute_result"
    }
   ],
   "source": [
    "# ElasticNet regression model\n",
    "model = linear_model.ElasticNet()\n",
    "model.fit(train_data, train_label)\n",
    "model.score(train_data, train_label)"
   ]
  },
  {
   "cell_type": "code",
   "execution_count": 10,
   "metadata": {},
   "outputs": [
    {
     "data": {
      "text/plain": [
       "0.4435136815493899"
      ]
     },
     "execution_count": 10,
     "metadata": {},
     "output_type": "execute_result"
    }
   ],
   "source": [
    "# Ridge regression\n",
    "model = linear_model.Ridge(alpha=.5)\n",
    "model.fit(train_data, train_label)\n",
    "model.score(train_data, train_label)"
   ]
  },
  {
   "cell_type": "code",
   "execution_count": 11,
   "metadata": {},
   "outputs": [
    {
     "data": {
      "text/plain": [
       "0.5172637603095558"
      ]
     },
     "execution_count": 11,
     "metadata": {},
     "output_type": "execute_result"
    }
   ],
   "source": [
    "model = make_pipeline(Normalizer(), PolynomialFeatures(2), LinearRegression(normalize=False))\n",
    "model.fit(train_data, train_label)\n",
    "model.score(train_data, train_label)"
   ]
  },
  {
   "cell_type": "code",
   "execution_count": 16,
   "metadata": {},
   "outputs": [
    {
     "data": {
      "text/plain": [
       "0.31351583830501295"
      ]
     },
     "execution_count": 16,
     "metadata": {},
     "output_type": "execute_result"
    }
   ],
   "source": [
    "model.score(test_data, test_label)"
   ]
  },
  {
   "cell_type": "code",
   "execution_count": 20,
   "metadata": {},
   "outputs": [],
   "source": [
    "pickle.dump(model, open(\"../data/hr.model\", \"wb\"))"
   ]
  },
  {
   "cell_type": "code",
   "execution_count": null,
   "metadata": {},
   "outputs": [],
   "source": []
  }
 ],
 "metadata": {
  "kernelspec": {
   "display_name": "Python 3",
   "language": "python",
   "name": "python3"
  },
  "language_info": {
   "codemirror_mode": {
    "name": "ipython",
    "version": 3
   },
   "file_extension": ".py",
   "mimetype": "text/x-python",
   "name": "python",
   "nbconvert_exporter": "python",
   "pygments_lexer": "ipython3",
   "version": "3.7.1"
  }
 },
 "nbformat": 4,
 "nbformat_minor": 2
}
